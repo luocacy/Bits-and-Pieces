{
 "cells": [
  {
   "cell_type": "markdown",
   "metadata": {},
   "source": [
    "$torch.gather(input, dim, index, out=None):$ 沿给定``dim``, 将输入索引张量``index``指定位置的值进行聚合."
   ]
  },
  {
   "cell_type": "markdown",
   "metadata": {},
   "source": [
    "``gather()``根据索引返回该项元素, 根据``dim``判断根据``行/列``进行查找，返回``tendor``的``size``与``index``的``size``一致."
   ]
  },
  {
   "cell_type": "markdown",
   "metadata": {},
   "source": [
    "``index``必须为``LongTensor``类型"
   ]
  },
  {
   "cell_type": "code",
   "execution_count": 13,
   "metadata": {},
   "outputs": [],
   "source": [
    "import torch"
   ]
  },
  {
   "cell_type": "code",
   "execution_count": 14,
   "metadata": {},
   "outputs": [
    {
     "name": "stdout",
     "output_type": "stream",
     "text": [
      "tensor([[1., 2.],\n",
      "        [3., 4.]])\n"
     ]
    }
   ],
   "source": [
    "a = torch.Tensor([[1, 2], [3, 4]])\n",
    "print(a)"
   ]
  },
  {
   "cell_type": "code",
   "execution_count": 15,
   "metadata": {},
   "outputs": [
    {
     "name": "stdout",
     "output_type": "stream",
     "text": [
      "tensor([[1., 2.],\n",
      "        [3., 2.]])\n"
     ]
    }
   ],
   "source": [
    "index = torch.LongTensor([[0, 0], [1, 0]])\n",
    "b = torch.gather(a,0, index)\n",
    "print(b)"
   ]
  },
  {
   "cell_type": "code",
   "execution_count": 16,
   "metadata": {},
   "outputs": [
    {
     "name": "stdout",
     "output_type": "stream",
     "text": [
      "tensor([[1., 1.],\n",
      "        [4., 3.]])\n"
     ]
    }
   ],
   "source": [
    "c = torch.gather(a,1, index)\n",
    "print(c)"
   ]
  },
  {
   "cell_type": "markdown",
   "metadata": {},
   "source": [
    "**【详细分析】**  \n",
    "1.输出形状与``index``的形状一致，``(2, 2)``即两行两列;   \n",
    "初始数据：  \n",
    "[ [1, 2],  \n",
    "[3 ,4] ]  \n",
    "各元素的位置信息为：  \n",
    "[ [(0,0), (0,1)],  \n",
    "[(1,0) ,(1,1)] ]  \n",
    "``index``形状：  \n",
    "[ [0, 0],  \n",
    "[1 ,0] ]  \n",
    "由上可知, 初始形状中每个元素位置有两个参数(第几行第几列), 但``index``只提供了一个参数;  \n",
    "2.``dim``: 表示了将``index``替换掉初始数据位置信息中的那个参数, ``0``代表替换行参数，``1``代表替换列参数;  \n",
    "当dim=0时，初始数据位置信息中行参数被替换为``index``的值：  \n",
    "[ [(0,0), (0,1)],  \n",
    "[(1,0) ,(0,1)] ]  \n",
    "填入对应位置元素得到：  \n",
    "[ [ 1, 2],  \n",
    "[3 ,2] ]  \n",
    "当dim=0时，初始数据位置信息中列参数被替换为``index``的值：  \n",
    "[ [(0,0), (0,0)],  \n",
    "[(1,1) ,(1,0)] ]  \n",
    "填入对应位置元素得到：  \n",
    "[ [ 1, 1],  \n",
    "[4 ,3] ]"
   ]
  },
  {
   "cell_type": "code",
   "execution_count": 17,
   "metadata": {},
   "outputs": [
    {
     "name": "stdout",
     "output_type": "stream",
     "text": [
      "tensor([[ 0,  1,  2,  3],\n",
      "        [ 4,  5,  6,  7],\n",
      "        [ 8,  9, 10, 11],\n",
      "        [12, 13, 14, 15]])\n"
     ]
    }
   ],
   "source": [
    "a = torch.arange(0,16).view(4,4)\n",
    "print(a)"
   ]
  },
  {
   "cell_type": "code",
   "execution_count": 18,
   "metadata": {},
   "outputs": [
    {
     "name": "stdout",
     "output_type": "stream",
     "text": [
      "tensor([[ 0,  5, 10, 15]])\n"
     ]
    }
   ],
   "source": [
    "# 选取对角线的元素\n",
    "index = torch.LongTensor([[0,1,2,3]])\n",
    "b = a.gather(0,index)\n",
    "print(b)"
   ]
  },
  {
   "cell_type": "code",
   "execution_count": 19,
   "metadata": {},
   "outputs": [
    {
     "name": "stdout",
     "output_type": "stream",
     "text": [
      "tensor([[12,  9,  6,  3]])\n"
     ]
    }
   ],
   "source": [
    "# 选取反对角线上的元素，注意与上面的不同\n",
    "index2 = torch.LongTensor([[3,2,1,0]])\n",
    "c = a.gather(0,index2)\n",
    "print(c)"
   ]
  },
  {
   "cell_type": "code",
   "execution_count": 21,
   "metadata": {},
   "outputs": [
    {
     "name": "stdout",
     "output_type": "stream",
     "text": [
      "tensor([[ 0],\n",
      "        [ 5],\n",
      "        [10],\n",
      "        [15]])\n"
     ]
    }
   ],
   "source": [
    "# 选取对角线的元素\n",
    "index3 = torch.LongTensor([[0,1,2,3]]).t()  # torch.t()是一个类似于求矩阵的转置的函数，要求输入的tensor结构维度<=2D\n",
    "d = a.gather(1,index3)\n",
    "print(d)"
   ]
  },
  {
   "cell_type": "code",
   "execution_count": 23,
   "metadata": {},
   "outputs": [
    {
     "name": "stdout",
     "output_type": "stream",
     "text": [
      "tensor([[ 3],\n",
      "        [ 6],\n",
      "        [ 9],\n",
      "        [12]])\n"
     ]
    }
   ],
   "source": [
    "# 选取反对角线上的元素\n",
    "index4 = torch.LongTensor([[3,2,1,0]]).t()\n",
    "e = a.gather(1,index4)\n",
    "print(e)"
   ]
  },
  {
   "cell_type": "code",
   "execution_count": null,
   "metadata": {},
   "outputs": [],
   "source": []
  }
 ],
 "metadata": {
  "kernelspec": {
   "display_name": "py3.6",
   "language": "python",
   "name": "py3.6"
  },
  "language_info": {
   "codemirror_mode": {
    "name": "ipython",
    "version": 3
   },
   "file_extension": ".py",
   "mimetype": "text/x-python",
   "name": "python",
   "nbconvert_exporter": "python",
   "pygments_lexer": "ipython3",
   "version": "3.6.10"
  }
 },
 "nbformat": 4,
 "nbformat_minor": 2
}
