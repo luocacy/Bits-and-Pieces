{
 "cells": [
  {
   "cell_type": "code",
   "execution_count": 104,
   "metadata": {},
   "outputs": [],
   "source": [
    "from collections import deque\n",
    "import random"
   ]
  },
  {
   "cell_type": "code",
   "execution_count": 105,
   "metadata": {},
   "outputs": [
    {
     "name": "stdout",
     "output_type": "stream",
     "text": [
      "deque([], maxlen=10)\n"
     ]
    }
   ],
   "source": [
    "que = deque(maxlen=10)\n",
    "print(que)"
   ]
  },
  {
   "cell_type": "code",
   "execution_count": 106,
   "metadata": {},
   "outputs": [
    {
     "name": "stdout",
     "output_type": "stream",
     "text": [
      "deque([[]], maxlen=10)\n"
     ]
    }
   ],
   "source": [
    "que.append([])\n",
    "print(que)"
   ]
  },
  {
   "cell_type": "code",
   "execution_count": 108,
   "metadata": {},
   "outputs": [
    {
     "name": "stdout",
     "output_type": "stream",
     "text": [
      "deque([[(0, 0), (1, 1), (2, 4)], [(3, 9), (4, 16)]], maxlen=10)\n",
      "deque([[(0, 0), (1, 1), (2, 4)], [(3, 9), (4, 16), (1, 1)], [(2, 4), (3, 9), (4, 16)], [(5, 25)]], maxlen=10)\n",
      "deque([[(0, 0), (1, 1), (2, 4)], [(3, 9), (4, 16), (1, 1)], [(2, 4), (3, 9), (4, 16)], [(5, 25), (2, 4), (3, 9)], [(4, 16), (5, 25), (6, 36)], []], maxlen=10)\n"
     ]
    }
   ],
   "source": [
    "# 往队列中存入样本\n",
    "for i in range(3):\n",
    "    for j in range(5):\n",
    "        que[-1].append((i+j, (i+j)**2))  \n",
    "        if len(que[-1]) == 3:\n",
    "            que.append([])\n",
    "    print(que)"
   ]
  },
  {
   "cell_type": "code",
   "execution_count": 109,
   "metadata": {},
   "outputs": [
    {
     "name": "stdout",
     "output_type": "stream",
     "text": [
      "[[(3, 9), (4, 16), (1, 1)], [(2, 4), (3, 9), (4, 16)]]\n"
     ]
    }
   ],
   "source": [
    "# 随机选取两条样本\n",
    "batch = random.sample(list(que)[:-1], 2)\n",
    "print(batch)"
   ]
  },
  {
   "cell_type": "code",
   "execution_count": null,
   "metadata": {},
   "outputs": [],
   "source": []
  },
  {
   "cell_type": "code",
   "execution_count": null,
   "metadata": {},
   "outputs": [],
   "source": []
  }
 ],
 "metadata": {
  "kernelspec": {
   "display_name": "py3.6",
   "language": "python",
   "name": "py3.6"
  },
  "language_info": {
   "codemirror_mode": {
    "name": "ipython",
    "version": 3
   },
   "file_extension": ".py",
   "mimetype": "text/x-python",
   "name": "python",
   "nbconvert_exporter": "python",
   "pygments_lexer": "ipython3",
   "version": "3.6.10"
  }
 },
 "nbformat": 4,
 "nbformat_minor": 2
}
